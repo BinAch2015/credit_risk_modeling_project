{
 "cells": [
  {
   "cell_type": "markdown",
   "id": "facc6006-b892-490f-aaaf-7294b10991cd",
   "metadata": {
    "panel-layout": {
     "height": 229.53125,
     "visible": true,
     "width": 100
    }
   },
   "source": [
    "# **Probability of Default(PD)**\n",
    "## **Credit Risk Modeling Sample**  (estimated completion date: 08/03/2024)\n",
    "\n",
    "#### **Developed by**: Bin Acharya\n",
    "#### **Version**:  Version 1\n",
    "#### **Git Tag**:\n",
    "#### **Date**: 07/30/2024\n",
    "\n",
    "#### **Revision History**:\n",
    "    - Version 1: Estimated completion date 08/03/2024\n",
    "    - Version 2: Pending.... Milestione 08/10/2024\n",
    "                 Calculate Unexpected Loss and Financial Impact\n",
    "                 Work on visualizing feature analysis Section \n",
    "\n",
    "\n",
    "\n",
    "\n",
    "\n",
    "\n",
    "## Purpose\n",
    "    * Predict Probability of Default for loans using Logistic Regression and XGBoost\n",
    "\n",
    "\n",
    "## References:\n",
    "    * OCC: https://www.occ.treas.gov/news-issuances/bulletins/2011/bulletin-2011-12a.pdf\n",
    "         : https://www.occ.treas.gov/publications-and-resources/publications/comptrollers-handbook/files/model-risk-management/pub-ch-model-risk.pdf\n",
    "         : https://www.occ.treas.gov/publications-and-resources/publications/comptrollers-handbook/files/allowances-for-credit-losses/index-allowance-credit-losses.html\n",
    "    * CECL: https://www.federalreserve.gov/econres/feds/files/2023063pap.pdf\n",
    "    * Book: https://books.google.com/books/about/Measuring_and_Managing_Credit_Risk.html"
   ]
  },
  {
   "cell_type": "markdown",
   "id": "2e4e93ca-5879-4208-a865-2063020c931c",
   "metadata": {
    "panel-layout": {
     "height": 50.8125,
     "visible": true,
     "width": 100
    }
   },
   "source": [
    " --------------------------------"
   ]
  },
  {
   "cell_type": "markdown",
   "id": "f2c6c8c9-521b-4662-8ac4-116cbabea1cd",
   "metadata": {},
   "source": [
    "## Import Libraries"
   ]
  },
  {
   "cell_type": "code",
   "execution_count": 1,
   "id": "d12dde9b-96a2-4a47-ac57-b57487939fd5",
   "metadata": {},
   "outputs": [
    {
     "name": "stdout",
     "output_type": "stream",
     "text": [
      "Libraries Imported\n"
     ]
    }
   ],
   "source": [
    "import numpy as np\n",
    "import pandas as pd\n",
    "\n",
    "%matplotlib inline\n",
    "import matplotlib.pyplot as plt\n",
    "from datetime import datetime\n",
    "import seaborn as sns\n",
    "\n",
    "from sklearn.model_selection import GridSearchCV, KFold, cross_val_predict, train_test_split, cross_val_score\n",
    "from sklearn.feature_selection import RFECV, RFE\n",
    "\n",
    "from sklearn.linear_model import LogisticRegression\n",
    "from sklearn.ensemble import RandomForestClassifier\n",
    "from sklearn.neighbors import KNeighborsClassifier\n",
    "\n",
    "from sklearn.metrics import make_scorer, f1_score, recall_score, precision_score\n",
    "from sklearn.metrics import classification_report, confusion_matrix, precision_recall_fscore_support\n",
    "from sklearn.metrics import accuracy_score, roc_curve, roc_auc_score, precision_recall_curve\n",
    "\n",
    "from sklearn.preprocessing import StandardScaler\n",
    "\n",
    "import xgboost as xgb\n",
    "import lightgbm as lgb\n",
    "\n",
    "import warnings\n",
    "warnings.filterwarnings('ignore')\n",
    "pd.set_option('display.max_columns', None)\n",
    "\n",
    "\n",
    "print(\"Libraries Imported\")"
   ]
  },
  {
   "cell_type": "markdown",
   "id": "8320f421-941c-4ccf-b349-20fde0a079e5",
   "metadata": {},
   "source": [
    "## Model Data\n",
    "\n",
    "\n",
    "\"To measure risk effectively, the data inputs for models should be reliable. Banks ordinarily document the major data sources used in the risk measurement process. Sound risk management involves providing reasonable and reconcilable support for qualitative factors used to account for environmental differences between quantitative estimates and current market and economic conditions.\"\n",
    "###### - OCC: Model Risk Management, Comptroller's Handbook 2021"
   ]
  },
  {
   "cell_type": "markdown",
   "id": "0b865065-8e77-41a8-913b-23afd0fe6646",
   "metadata": {
    "jp-MarkdownHeadingCollapsed": true
   },
   "source": [
    "### Data Requirements\n",
    "\n",
    "Before development stage, begin with what is the purpose of the model and what it will be used for. Simply put, \"What question are we trying to answer?\" and business objectives. Conduct research to understand the literary concepts and the mathematical techniques used for predicting the model. Next, identify and understand the dependent variable in the model and the factors that will influence it. Then set up data requirements. "
   ]
  },
  {
   "cell_type": "markdown",
   "id": "625d1a24-ed80-45df-a337-b8fc83cf5eef",
   "metadata": {},
   "source": [
    "### Data Sources\n",
    "\n",
    "Once the requirements are set up for the data that is needed, look for data sources that are appropriate. The conduct appropriate best practices to obtain the data. In enterprise level, this includes approval from various data management teams, and detailed description of calulated fields and data dictionaries.\n",
    "\n",
    "\n",
    "#### Source: Lending Tree Data"
   ]
  },
  {
   "cell_type": "code",
   "execution_count": 2,
   "id": "d1092bb2-770c-4e89-ac2b-7a28350af2d0",
   "metadata": {
    "scrolled": true
   },
   "outputs": [
    {
     "data": {
      "text/html": [
       "<div>\n",
       "<style scoped>\n",
       "    .dataframe tbody tr th:only-of-type {\n",
       "        vertical-align: middle;\n",
       "    }\n",
       "\n",
       "    .dataframe tbody tr th {\n",
       "        vertical-align: top;\n",
       "    }\n",
       "\n",
       "    .dataframe thead th {\n",
       "        text-align: right;\n",
       "    }\n",
       "</style>\n",
       "<table border=\"1\" class=\"dataframe\">\n",
       "  <thead>\n",
       "    <tr style=\"text-align: right;\">\n",
       "      <th></th>\n",
       "      <th>id</th>\n",
       "      <th>member_id</th>\n",
       "      <th>loan_amnt</th>\n",
       "      <th>funded_amnt</th>\n",
       "      <th>funded_amnt_inv</th>\n",
       "      <th>term</th>\n",
       "      <th>int_rate</th>\n",
       "      <th>installment</th>\n",
       "      <th>grade</th>\n",
       "      <th>sub_grade</th>\n",
       "      <th>emp_title</th>\n",
       "      <th>emp_length</th>\n",
       "    </tr>\n",
       "  </thead>\n",
       "  <tbody>\n",
       "    <tr>\n",
       "      <th>0</th>\n",
       "      <td>1077501</td>\n",
       "      <td>1296599</td>\n",
       "      <td>5000</td>\n",
       "      <td>5000</td>\n",
       "      <td>4975.0</td>\n",
       "      <td>36 months</td>\n",
       "      <td>10.65</td>\n",
       "      <td>162.87</td>\n",
       "      <td>B</td>\n",
       "      <td>B2</td>\n",
       "      <td>NaN</td>\n",
       "      <td>10+ years</td>\n",
       "    </tr>\n",
       "    <tr>\n",
       "      <th>1</th>\n",
       "      <td>1077430</td>\n",
       "      <td>1314167</td>\n",
       "      <td>2500</td>\n",
       "      <td>2500</td>\n",
       "      <td>2500.0</td>\n",
       "      <td>60 months</td>\n",
       "      <td>15.27</td>\n",
       "      <td>59.83</td>\n",
       "      <td>C</td>\n",
       "      <td>C4</td>\n",
       "      <td>Ryder</td>\n",
       "      <td>&lt; 1 year</td>\n",
       "    </tr>\n",
       "    <tr>\n",
       "      <th>2</th>\n",
       "      <td>1077175</td>\n",
       "      <td>1313524</td>\n",
       "      <td>2400</td>\n",
       "      <td>2400</td>\n",
       "      <td>2400.0</td>\n",
       "      <td>36 months</td>\n",
       "      <td>15.96</td>\n",
       "      <td>84.33</td>\n",
       "      <td>C</td>\n",
       "      <td>C5</td>\n",
       "      <td>NaN</td>\n",
       "      <td>10+ years</td>\n",
       "    </tr>\n",
       "    <tr>\n",
       "      <th>3</th>\n",
       "      <td>1076863</td>\n",
       "      <td>1277178</td>\n",
       "      <td>10000</td>\n",
       "      <td>10000</td>\n",
       "      <td>10000.0</td>\n",
       "      <td>36 months</td>\n",
       "      <td>13.49</td>\n",
       "      <td>339.31</td>\n",
       "      <td>C</td>\n",
       "      <td>C1</td>\n",
       "      <td>AIR RESOURCES BOARD</td>\n",
       "      <td>10+ years</td>\n",
       "    </tr>\n",
       "    <tr>\n",
       "      <th>4</th>\n",
       "      <td>1075358</td>\n",
       "      <td>1311748</td>\n",
       "      <td>3000</td>\n",
       "      <td>3000</td>\n",
       "      <td>3000.0</td>\n",
       "      <td>60 months</td>\n",
       "      <td>12.69</td>\n",
       "      <td>67.79</td>\n",
       "      <td>B</td>\n",
       "      <td>B5</td>\n",
       "      <td>University Medical Group</td>\n",
       "      <td>1 year</td>\n",
       "    </tr>\n",
       "  </tbody>\n",
       "</table>\n",
       "</div>"
      ],
      "text/plain": [
       "        id  member_id  loan_amnt  funded_amnt  funded_amnt_inv        term  \\\n",
       "0  1077501    1296599       5000         5000           4975.0   36 months   \n",
       "1  1077430    1314167       2500         2500           2500.0   60 months   \n",
       "2  1077175    1313524       2400         2400           2400.0   36 months   \n",
       "3  1076863    1277178      10000        10000          10000.0   36 months   \n",
       "4  1075358    1311748       3000         3000           3000.0   60 months   \n",
       "\n",
       "   int_rate  installment grade sub_grade                 emp_title emp_length  \n",
       "0     10.65       162.87     B        B2                       NaN  10+ years  \n",
       "1     15.27        59.83     C        C4                     Ryder   < 1 year  \n",
       "2     15.96        84.33     C        C5                       NaN  10+ years  \n",
       "3     13.49       339.31     C        C1       AIR RESOURCES BOARD  10+ years  \n",
       "4     12.69        67.79     B        B5  University Medical Group     1 year  "
      ]
     },
     "metadata": {},
     "output_type": "display_data"
    },
    {
     "name": "stdout",
     "output_type": "stream",
     "text": [
      "Number of Columns: 74        \n",
      "Number of Rows:    466285\n"
     ]
    }
   ],
   "source": [
    "loan_data = pd.read_csv('input_data/loan_data_2007_2014.csv', index_col= [0])\n",
    "display(loan_data.iloc[:5, :12])\n",
    "line = '----------------------------------------------------------------------'\n",
    "print(\"Number of Columns: {c} \\\n",
    "       \\nNumber of Rows:    {r}\".format(c= len(loan_data.columns), r= len(loan_data)))"
   ]
  },
  {
   "cell_type": "code",
   "execution_count": 3,
   "id": "d92bd407-1e49-443c-bb9f-ae40e1c1f260",
   "metadata": {},
   "outputs": [],
   "source": [
    "# pd.set_option('display.max_rows',100)"
   ]
  },
  {
   "cell_type": "markdown",
   "id": "13323f47-7cda-49f0-b595-0940400ee62d",
   "metadata": {},
   "source": [
    "## Model Data Preprocessing"
   ]
  },
  {
   "cell_type": "markdown",
   "id": "0c2e1034-6ade-43dd-8165-c7810504ab5b",
   "metadata": {},
   "source": [
    "### Dependent Variable Definition\n",
    "\n",
    "Dependent Variable must be defined clearly.\n",
    "\n",
    "-------------------------\n",
    "\n",
    "The dependent variable is Default, an indicator that equals one if a loan defaults (i.e., becomes 90 days past due) within four quarters of the reporting quarter.\n",
    "\n",
    "###### - Federal Reserve: Current Expected Credit Losses (CECL) Standard and Banks’ Information Production 2023\n",
    "\n",
    "-------------------------\n",
    "\n",
    "**Dependent Variable**\n",
    "\n",
    " -  loan_status column is used to create binary default flag\n",
    " -  1 is non-default. 0 is default\n",
    " -  'Late (31-120 days)' is considered default for this excercise as 90 DPD falls within this period\n"
   ]
  },
  {
   "cell_type": "code",
   "execution_count": 4,
   "id": "1f45146d-ca3e-4ca9-b291-b97c5970fca8",
   "metadata": {
    "scrolled": true
   },
   "outputs": [
    {
     "name": "stdout",
     "output_type": "stream",
     "text": [
      "---------------------------------------------------------------------- \n",
      " loan_status\n",
      "0    415317\n",
      "1     50968\n",
      "Name: count, dtype: int64\n"
     ]
    }
   ],
   "source": [
    "# Renaming column name 'loan_status' will be used for binary flag\n",
    "loan_data.rename(columns= {'loan_status':'loan_status_type'}, inplace= True)\n",
    "reorder_list = ['Current', 'Fully Paid', 'Late (16-30 days)', 'In Grace Period', \n",
    "                'Does not meet the credit policy. Status:Fully Paid', 'Default', \n",
    "                'Charged Off', 'Late (31-120 days)', 'Does not meet the credit policy. Status:Charged Off']\n",
    "# display(loan_data['loan_status_type'].value_counts(dropna= False).reindex(reorder_list))\n",
    "\n",
    "\n",
    "# Creating Default Flag\n",
    "loan_data['loan_status'] = np.where(loan_data['loan_status_type'].isin(['Default', 'Charged Off', 'Late (31-120 days)',\n",
    "                                                                    'Does not meet the credit policy. Status:Charged Off']),1,0)\n",
    "print(line,\"\\n\",(loan_data['loan_status'].value_counts()))\n"
   ]
  },
  {
   "cell_type": "markdown",
   "id": "e7d330ee-a961-4e5e-8d71-25f643aff134",
   "metadata": {},
   "source": [
    "--------------------------"
   ]
  },
  {
   "cell_type": "markdown",
   "id": "03c68b81-49d1-4ffe-96e3-49df96504929",
   "metadata": {},
   "source": [
    "### Missing Data Imputation"
   ]
  },
  {
   "cell_type": "code",
   "execution_count": 5,
   "id": "1d987686-e0ee-4fa2-b9c1-95ceac7615fd",
   "metadata": {},
   "outputs": [],
   "source": [
    "def miss_data_percent(dataset, percent_int, cap_or_floor):\n",
    "    ''' \n",
    "    ----------------------------------------------------------------------\n",
    "    dataset = Data to check missing values (eg: loan_data)\n",
    "    percent_int = Any number value (eg:50, 75, 90)\n",
    "    cap_or_floor = Caps or floors percent_int input. Type 'cap' or 'floor'\n",
    "    ----------------------------------------------------------------------\n",
    "    '''\n",
    "    miss_data_perc = dataset.isnull().sum() /len(dataset) \n",
    "    if cap_or_floor == 'cap':\n",
    "        cols_to_focus = miss_data_perc[miss_data_perc <= int(percent_int)/100]\n",
    "        cols_to_focus = cols_to_focus[cols_to_focus > 0]\n",
    "    elif cap_or_floor == 'floor':\n",
    "         cols_to_focus = miss_data_perc[miss_data_perc >= int(percent_int)/100]    \n",
    "    cols_to_focus.sort_values(ascending= False, inplace= True)\n",
    "    return cols_to_focus"
   ]
  },
  {
   "cell_type": "markdown",
   "id": "0dc2eb6f-2343-4bd4-8d52-180f276ad588",
   "metadata": {
    "jp-MarkdownHeadingCollapsed": true
   },
   "source": [
    "#### Over 50% missing data\n",
    "\n",
    "--------------------------------"
   ]
  },
  {
   "cell_type": "code",
   "execution_count": 6,
   "id": "acf07245-7c02-43a3-9d83-754c76f073f5",
   "metadata": {
    "scrolled": true
   },
   "outputs": [
    {
     "name": "stdout",
     "output_type": "stream",
     "text": [
      "The following columns will be dropped due to over 50% missing data:\n",
      "  ---------------------------------------------------------------------- \n",
      " [Index(['open_il_24m', 'mths_since_rcnt_il', 'total_cu_tl', 'inq_fi',\n",
      "       'all_util', 'max_bal_bc', 'open_rv_24m', 'open_rv_12m', 'il_util',\n",
      "       'total_bal_il', 'inq_last_12m', 'open_il_12m', 'open_il_6m',\n",
      "       'open_acc_6m', 'verification_status_joint', 'dti_joint',\n",
      "       'annual_inc_joint', 'mths_since_last_record',\n",
      "       'mths_since_last_major_derog', 'desc', 'mths_since_last_delinq'],\n",
      "      dtype='object')]\n"
     ]
    }
   ],
   "source": [
    "print(\"The following columns will be dropped due to over 50% missing data:\\n \"\n",
    "      , line, \"\\n\" , miss_data_percent(loan_data, 50, 'floor').axes)\n",
    "\n",
    "cols_to_drop = ['open_il_24m', 'mths_since_rcnt_il', 'total_cu_tl', 'inq_fi', 'all_util', 'max_bal_bc', 'open_rv_24m', 'open_rv_12m', 'il_util'\n",
    "                ,'total_bal_il', 'inq_last_12m', 'open_il_12m', 'open_il_6m', 'open_acc_6m', 'verification_status_joint', 'dti_joint'\n",
    "                ,'annual_inc_joint', 'mths_since_last_record','mths_since_last_major_derog', 'desc', 'mths_since_last_delinq']\n",
    "loan_data.drop(columns=cols_to_drop, inplace= True)"
   ]
  },
  {
   "cell_type": "markdown",
   "id": "5f942863-fdad-4547-9ba3-4a6d9923a3f0",
   "metadata": {
    "jp-MarkdownHeadingCollapsed": true
   },
   "source": [
    "---------------------------\n",
    "\n",
    "#### Between 5% and 50% missing data\n",
    "\n"
   ]
  },
  {
   "cell_type": "code",
   "execution_count": 7,
   "id": "3a066aee-beab-4a84-90d9-07ae0f3ec61a",
   "metadata": {},
   "outputs": [
    {
     "name": "stdout",
     "output_type": "stream",
     "text": [
      "The following columns have data missing between 5% and 50%:\n",
      " ---------------------------------------------------------------------- \n",
      " next_pymnt_d        0.487286\n",
      "tot_coll_amt        0.150715\n",
      "tot_cur_bal         0.150715\n",
      "total_rev_hi_lim    0.150715\n",
      "emp_title           0.059166\n",
      "dtype: float64\n",
      "---------------------------------------------------------------------- \n",
      " These columns will be dropped. Missing data for these not be imputed for following reasons: \n",
      " 1. Information not available during loan issue (next_pymnt_d, tot_coll_amt,tot_cur_bal,total_rev_hi_lim )  \n",
      " 2. User manually typed Employment titles(emp_title). There are 205475 unique employment titles \n"
     ]
    }
   ],
   "source": [
    "print(\"The following columns have data missing between 5% and 50%:\\n\", line, \"\\n\", miss_data_percent(loan_data, 5, 'floor'))\n",
    "print(line, \"\\n\",\n",
    "      \"These columns will be dropped. Missing data for these not be imputed for following reasons: \\n\"\n",
    "      , \"1. Information not available during loan issue (next_pymnt_d, tot_coll_amt,tot_cur_bal,total_rev_hi_lim ) \", \"\\n\"\n",
    "      , \"2. User manually typed Employment titles(emp_title). There are {a} unique employment titles \".format(a= loan_data['emp_title'].nunique()))\n",
    "\n",
    "cols_to_drop = ['next_pymnt_d', 'tot_coll_amt', 'tot_cur_bal', 'total_rev_hi_lim', 'emp_title']\n",
    "loan_data.drop(columns=cols_to_drop, inplace= True)"
   ]
  },
  {
   "cell_type": "markdown",
   "id": "2ef4bfa3-0373-4516-b1ba-af80fb033ad5",
   "metadata": {
    "jp-MarkdownHeadingCollapsed": true
   },
   "source": [
    "---------------------------\n",
    "\n",
    "#### Less than 5% missing data\n",
    "\n"
   ]
  },
  {
   "cell_type": "code",
   "execution_count": 8,
   "id": "632b4679-4dce-4d38-bba0-e4504f430463",
   "metadata": {},
   "outputs": [
    {
     "data": {
      "text/plain": [
       "emp_length                    21008\n",
       "last_pymnt_d                    376\n",
       "revol_util                      340\n",
       "collections_12_mths_ex_med      145\n",
       "last_credit_pull_d               42\n",
       "delinq_2yrs                      29\n",
       "earliest_cr_line                 29\n",
       "inq_last_6mths                   29\n",
       "open_acc                         29\n",
       "pub_rec                          29\n",
       "total_acc                        29\n",
       "acc_now_delinq                   29\n",
       "title                            21\n",
       "annual_inc                        4\n",
       "dtype: int64"
      ]
     },
     "metadata": {},
     "output_type": "display_data"
    },
    {
     "name": "stdout",
     "output_type": "stream",
     "text": [
      "The following columns will be dropped: revol_util, collections_12_mths_ex_med, delinq_2yrs, inq_last_6mths, open_acc , total_acc, acc_now_delinq, title, last_pymnt_d, last_credit_pull_d\n"
     ]
    }
   ],
   "source": [
    "miss_data_percent(loan_data,5, 'cap')\n",
    "display(loan_data.isnull().sum()[loan_data.isnull().sum() > 1].sort_values(ascending= False))\n",
    "\n",
    "print(\"The following columns will be dropped: revol_util, collections_12_mths_ex_med, delinq_2yrs, inq_last_6mths, open_acc , total_acc, acc_now_delinq, title, last_pymnt_d, last_credit_pull_d\")\n",
    "cols_to_drop = ['revol_util', 'collections_12_mths_ex_med', 'delinq_2yrs', 'inq_last_6mths', 'open_acc' , 'total_acc', 'acc_now_delinq', 'title','last_pymnt_d','last_credit_pull_d','addr_state']\n",
    "loan_data.drop(columns=cols_to_drop, inplace= True)"
   ]
  },
  {
   "cell_type": "markdown",
   "id": "ab41208d-7e0f-4cba-92de-22790f97378e",
   "metadata": {
    "jp-MarkdownHeadingCollapsed": true
   },
   "source": [
    "-----------------------------\n",
    "\n",
    "#### Columns to impute missing values"
   ]
  },
  {
   "cell_type": "code",
   "execution_count": 9,
   "id": "f60ffde8-038a-44af-a4f7-f39648cfc1b4",
   "metadata": {},
   "outputs": [
    {
     "data": {
      "text/plain": [
       "emp_length          21008\n",
       "earliest_cr_line       29\n",
       "pub_rec                29\n",
       "annual_inc              4\n",
       "dtype: int64"
      ]
     },
     "execution_count": 9,
     "metadata": {},
     "output_type": "execute_result"
    }
   ],
   "source": [
    "loan_data.isnull().sum()[loan_data.isnull().sum() > 0].sort_values(ascending= False)"
   ]
  },
  {
   "cell_type": "code",
   "execution_count": 10,
   "id": "788bc722-7943-4ced-92c2-f02b0aa16cd4",
   "metadata": {},
   "outputs": [],
   "source": [
    "# emp_length\n",
    "mapping_dict = {\n",
    "    \"emp_length\": {\n",
    "        \"10+ years\": 10, \"9 years\": 9,  \"8 years\": 8,\n",
    "        \"7 years\": 7,    \"6 years\": 6,  \"5 years\": 5,\n",
    "        \"4 years\": 4,    \"3 years\": 3,  \"2 years\": 2,\n",
    "        \"1 year\": 1,     \"< 1 year\": 0, \"n/a\": 0\n",
    "    }\n",
    "}\n",
    "loan_data = loan_data.replace(mapping_dict)\n",
    "loan_data['emp_length'] = np.where(loan_data['emp_length'].isnull(),0, loan_data['emp_length'])\n",
    "\n",
    "\n",
    "# earliest_cr_line\n",
    "# After further investigating the 29 missing are loans issued on either Jun,Jul,Aug of 2007. I'll replace issue_d value for these\n",
    "# When strings are converted to DateTime, 1169 values become 20xx instead of 19xx.\n",
    "# Since the range for these are from 1948 to 1968. I'll be filling these with the minimum availabe in the dataset. \n",
    "\n",
    "loan_data['earliest_cr_line'] = np.where(loan_data['earliest_cr_line'].isnull(), loan_data['issue_d'], loan_data['earliest_cr_line'])\n",
    "loan_data['earliest_cr_line'] = pd.to_datetime(loan_data['earliest_cr_line'], format = '%b-%y')\n",
    "\n",
    "loan_data['earliest_cr_line'].describe();\n",
    "loan_data['earliest_cr_line'][loan_data['earliest_cr_line']  > pd.to_datetime(max(loan_data['issue_d']), format = '%b-%y')].describe();\n",
    "loan_data['earliest_cr_line'][loan_data['earliest_cr_line']  < pd.to_datetime(max(loan_data['issue_d']), format = '%b-%y')].describe();\n",
    "\n",
    "loan_data.loc[loan_data['earliest_cr_line'] > pd.to_datetime('2020'), ['earliest_cr_line']] = loan_data['earliest_cr_line'].min()\n",
    "loan_data['earliest_cr_line'].describe()\n",
    "\n",
    "\n",
    "# pub_rec\n",
    "loan_data['pub_rec'] = np.where(loan_data['pub_rec'].isnull(), 0, loan_data['pub_rec'] )\n",
    "\n",
    "# annual_inc\n",
    "loan_data['annual_inc'] = np.where(loan_data['annual_inc'].isnull(), loan_data['annual_inc'].mean(), loan_data['annual_inc'] )"
   ]
  },
  {
   "cell_type": "code",
   "execution_count": null,
   "id": "9be1e2ee-3347-40d7-ac94-785c0eb9c22d",
   "metadata": {
    "scrolled": true
   },
   "outputs": [],
   "source": []
  },
  {
   "cell_type": "code",
   "execution_count": null,
   "id": "5201d95a-d2ef-42c4-ab0f-946cb3bd32c5",
   "metadata": {},
   "outputs": [],
   "source": []
  },
  {
   "cell_type": "code",
   "execution_count": null,
   "id": "e7b40769-b661-4a21-aacc-0542abf856f8",
   "metadata": {},
   "outputs": [],
   "source": []
  },
  {
   "cell_type": "markdown",
   "id": "2194bcf6-a3fe-478f-8da3-a047733347d4",
   "metadata": {},
   "source": [
    "--------------------"
   ]
  },
  {
   "cell_type": "markdown",
   "id": "4bd911c1-806b-4a1c-b5e5-0e7006c6c99d",
   "metadata": {},
   "source": [
    " "
   ]
  },
  {
   "cell_type": "markdown",
   "id": "65d2aa7b-e56f-48b3-bd7d-a622781f4f0a",
   "metadata": {},
   "source": [
    "## Feature Selection and more Pre-processing \n",
    "- Delete off columns that are not available when deciding to give the loan\n",
    "- Unhelpful columns: url, title"
   ]
  },
  {
   "cell_type": "markdown",
   "id": "9bce09a8-97c8-4e39-91a2-63856ad63e6e",
   "metadata": {},
   "source": [
    "### Features not useful"
   ]
  },
  {
   "cell_type": "code",
   "execution_count": 11,
   "id": "c2c57986-a70a-4ffd-96f8-46a5b01b0005",
   "metadata": {},
   "outputs": [],
   "source": [
    "cols_to_drop = ['id', 'sub_grade', 'pymnt_plan', 'url', 'zip_code','policy_code','application_type']\n",
    "loan_data.drop(columns=cols_to_drop, inplace= True)\n",
    "\n",
    "# pymnt_plan = all data 'y', zip_code = not number , policy_code = all 1, application_type = all 'INDIVIDUAL', 'sub_grade' = explained by grade\n",
    "# I will keep 'member id', needed for monitoring data."
   ]
  },
  {
   "cell_type": "markdown",
   "id": "5d027866-a843-4fb3-b85a-5540c1ae5803",
   "metadata": {},
   "source": [
    "### Data not available at Loan Issuance"
   ]
  },
  {
   "cell_type": "code",
   "execution_count": 12,
   "id": "36057185-d3b6-485f-8a5b-ad5d0da9d5af",
   "metadata": {},
   "outputs": [],
   "source": [
    "cols_to_drop = ['revol_bal', 'out_prncp', 'total_pymnt', 'total_pymnt_inv', 'total_rec_prncp'\n",
    "                , 'total_rec_int', 'total_rec_late_fee', 'recoveries', 'collection_recovery_fee'\n",
    "                , 'last_pymnt_amnt', 'out_prncp_inv']\n",
    "loan_data.drop(columns=cols_to_drop, inplace= True)"
   ]
  },
  {
   "cell_type": "markdown",
   "id": "b70230d6-2b0b-4ebf-a1df-0e8081ebe0a2",
   "metadata": {},
   "source": [
    "### Continuous Variables pre-processing \n",
    "#### Variable Dtype, rounding \n"
   ]
  },
  {
   "cell_type": "code",
   "execution_count": 13,
   "id": "76ef93b8-8f68-4e07-b6d1-bc447f5d55e7",
   "metadata": {},
   "outputs": [],
   "source": [
    "loan_data['funded_amnt_inv'] = loan_data['funded_amnt_inv'].astype(\"int64\")\n",
    "loan_data['int_rate'] = round(loan_data['int_rate'],1)\n",
    "loan_data['installment'] = loan_data['installment'].astype(\"int64\")\n",
    "loan_data['emp_length'] = loan_data['emp_length'].astype(\"int64\")\n",
    "loan_data['annual_inc'] = loan_data['annual_inc'].astype(\"int64\")\n",
    "loan_data['dti'] = loan_data['dti'].astype(\"int64\")\n",
    "loan_data['pub_rec'] = loan_data['pub_rec'].astype(\"int64\")\n",
    "loan_data['issue_d'] = pd.to_datetime(loan_data['issue_d'], format = '%b-%y')\n",
    "loan_data['member_id'] = loan_data['member_id'].astype(\"str\")"
   ]
  },
  {
   "cell_type": "markdown",
   "id": "346d07d6-ace9-421a-a724-a4804be4c271",
   "metadata": {},
   "source": [
    "### Discrete Variables pre-processing "
   ]
  },
  {
   "cell_type": "code",
   "execution_count": 14,
   "id": "c9ee9cc1-a6a8-4e6d-8772-b245cac970d2",
   "metadata": {},
   "outputs": [],
   "source": [
    "# emp_length\n",
    "mapping_dict = {\n",
    "    \"term\": {\n",
    "        \" 36 months\": \"36_months\", \n",
    "        \" 60 months\": \"60_months\"},\n",
    "    \n",
    "    \"verification_status\":{\n",
    "        \"Verified\": \"verified\", \n",
    "        \"Source Verified\": \"source_verified\", \n",
    "        \"Not Verified\": \"not_verified\"}\n",
    "}\n",
    "loan_data = loan_data.replace(mapping_dict)\n",
    "\n",
    "# home_ownership\n",
    "loan_data['home_ownership'] = np.where(loan_data['home_ownership'].isin(['NONE','ANY']),'OTHER', loan_data['home_ownership'])"
   ]
  },
  {
   "cell_type": "markdown",
   "id": "a1cb01dd-24de-4fcb-86f0-84c16c33def8",
   "metadata": {},
   "source": [
    "----------"
   ]
  },
  {
   "cell_type": "markdown",
   "id": "ab36b2e8-218a-4091-b01f-1cc7da4f40f6",
   "metadata": {},
   "source": [
    "## Exploratory Analysis"
   ]
  },
  {
   "cell_type": "markdown",
   "id": "e0969871-d271-4252-9395-76f98a686cb0",
   "metadata": {},
   "source": [
    "### Combining info in Issue date and Earliest Credit line Date\n",
    "My hypothesis is the difference between Issue date and Earliest Credit line Date might be useful feature"
   ]
  },
  {
   "cell_type": "code",
   "execution_count": 15,
   "id": "2a56a5dc-075a-487c-9bb2-6d6dcc6dcf3a",
   "metadata": {},
   "outputs": [],
   "source": [
    "loan_data['mths_diff_issu_and_crline'] =  ((loan_data['issue_d']- loan_data['earliest_cr_line']).dt.days / 30.4375)\n",
    "loan_data['mths_diff_issu_and_crline'] = loan_data['mths_diff_issu_and_crline'].astype(\"int64\")\n",
    "loan_data.drop(columns=['earliest_cr_line'], inplace= True)"
   ]
  },
  {
   "cell_type": "markdown",
   "id": "ef1adbad-324f-4553-ab0c-f0321c485b0c",
   "metadata": {},
   "source": [
    "### Features Exploratory Analysis"
   ]
  },
  {
   "cell_type": "code",
   "execution_count": 16,
   "id": "2aaa51d2-4c4a-477e-98ff-212127ecdf89",
   "metadata": {},
   "outputs": [],
   "source": [
    "# loan_amnt', 'funded_amnt', 'funded_amnt_inv', 'term',\n",
    "#        'int_rate', 'installment', 'grade', 'emp_length', 'home_ownership',\n",
    "#        'annual_inc', 'verification_status', 'issue_d', 'loan_status_type',\n",
    "#        'purpose', 'dti', 'pub_rec', 'initial_list_status', 'loan_status',\n",
    "#        'mths_diff_issu_and_crline'"
   ]
  },
  {
   "cell_type": "markdown",
   "id": "a28e673d-e169-44f3-944c-04d1c2fe02ef",
   "metadata": {},
   "source": [
    "### Pearson Corrrelation"
   ]
  },
  {
   "cell_type": "code",
   "execution_count": null,
   "id": "0b69ff45-0cf1-47e9-b954-babe43fb68d6",
   "metadata": {},
   "outputs": [],
   "source": []
  },
  {
   "cell_type": "code",
   "execution_count": 17,
   "id": "2e6e5879-56dc-4613-8fba-e4df4216b14a",
   "metadata": {},
   "outputs": [
    {
     "data": {
      "image/png": "[encoded data removed]",
      "text/plain": [
       "<Figure size 1000x800 with 2 Axes>"
      ]
     },
     "metadata": {},
     "output_type": "display_data"
    }
   ],
   "source": [
    "continous_vars = loan_data.select_dtypes(exclude=['object']).columns\n",
    "\n",
    "fig, ax = plt.subplots(figsize=(10,8))         \n",
    "cm_df = sns.heatmap(loan_data[continous_vars].corr(),annot=True, fmt = \".2f\", cmap = \"coolwarm\", ax=ax)"
   ]
  },
  {
   "cell_type": "markdown",
   "id": "a5fc9b39-9009-4532-9ed2-627b9223318f",
   "metadata": {},
   "source": [
    "- loan_amnt vs installment vs funded amount vs funded_amt_inv"
   ]
  },
  {
   "cell_type": "code",
   "execution_count": 18,
   "id": "fd6b51e0-b9ca-4aad-aff1-1cda211a448d",
   "metadata": {},
   "outputs": [],
   "source": [
    "loan_data.drop(columns=['funded_amnt', 'funded_amnt_inv','installment'], inplace= True)"
   ]
  },
  {
   "cell_type": "markdown",
   "id": "efbae0b0-4a43-4d53-98bd-f12b428a2fdb",
   "metadata": {},
   "source": [
    "### Dummy Variables"
   ]
  },
  {
   "cell_type": "code",
   "execution_count": 19,
   "id": "33ad0c36-220c-47ed-8fb1-22074ee5ceb5",
   "metadata": {},
   "outputs": [
    {
     "name": "stdout",
     "output_type": "stream",
     "text": [
      "43\n"
     ]
    }
   ],
   "source": [
    "cols = ['term', 'grade', 'home_ownership', 'verification_status', 'purpose', 'initial_list_status']\n",
    "for column in cols:\n",
    "    loan_data[column] = loan_data[column].astype('category')\n",
    "\n",
    "dummy_df = pd.get_dummies(loan_data[cols], dtype=int)\n",
    "loan_data = pd.concat([loan_data, dummy_df], axis=1)\n",
    "loan_data.drop(cols, axis=1, inplace=True)\n",
    "\n",
    "print(len(loan_data.columns))\n"
   ]
  },
  {
   "cell_type": "markdown",
   "id": "84122dd6-845e-401e-9204-8ef24f281479",
   "metadata": {},
   "source": [
    "------------------"
   ]
  },
  {
   "cell_type": "markdown",
   "id": "6fb1fc92-4563-4879-a513-94b295c25aa8",
   "metadata": {},
   "source": [
    "## Train Test Split"
   ]
  },
  {
   "cell_type": "markdown",
   "id": "e1ffdd35-fa09-4b38-a61b-438062db01f4",
   "metadata": {},
   "source": [
    "### Model Monitoring Data\n",
    "I will be using the final 10% data based off Issue Date for Model Monitoring. The idea is that model is built and tested. Then \"pretend\" time passes and newly issued loans are being used as monitoring data. "
   ]
  },
  {
   "cell_type": "code",
   "execution_count": 24,
   "id": "8e4c0939-20fe-4c6f-8db0-df23a709ecdb",
   "metadata": {},
   "outputs": [],
   "source": [
    "loan_data.drop(columns=['loan_status_type'], inplace= True)\n",
    "\n",
    "model_monitoring_data =  loan_data.loc[loan_data['issue_d'] > loan_data['issue_d'].quantile(0.9)]\n",
    "loan_data = loan_data.loc[loan_data['issue_d'] <= loan_data['issue_d'].quantile(0.9)]\n",
    "\n",
    "model_monitoring_data_unscaled = model_monitoring_data.copy()"
   ]
  },
  {
   "cell_type": "markdown",
   "id": "4898cd53-bf8f-4897-9979-e5bf189f6a8e",
   "metadata": {},
   "source": [
    "### Create Train Test Split "
   ]
  },
  {
   "cell_type": "code",
   "execution_count": 25,
   "id": "0a27118e-d2a6-4254-9b7b-e47ea98ce264",
   "metadata": {},
   "outputs": [],
   "source": [
    "loan_data.drop(columns=['member_id','issue_d'], inplace= True)\n",
    "\n",
    "X_train, X_test, y_train, y_test = train_test_split(loan_data.drop('loan_status', axis = 1),\n",
    "                     loan_data['loan_status'], test_size = 0.2, random_state = 42, stratify= loan_data['loan_status'])"
   ]
  },
  {
   "cell_type": "markdown",
   "id": "d5149637-45fb-4249-88eb-0bb10ef4e51d",
   "metadata": {},
   "source": [
    "### **Class Imbalance:** Under-Sampled Train Test Split \n",
    "\n",
    "XGBoost is log-loss(minimize Summation). Which means it will predict both classes(1 and 0) to get overall higher score. Our data has class Imbalance The dataset needs to be undersampled to 50-50 default non-default. "
   ]
  },
  {
   "cell_type": "code",
   "execution_count": 26,
   "id": "709cb2e3-3d2b-470b-9a5a-2ce3b19ac9f6",
   "metadata": {},
   "outputs": [],
   "source": [
    "# Concat training sets\n",
    "X_y_train = pd.concat([X_train.reset_index(drop= True), y_train.reset_index(drop= True)], axis= 1)\n",
    "\n",
    "# Get default non-default counts\n",
    "count_nondefault, count_default = X_y_train['loan_status'].value_counts()\n",
    "\n",
    "# Separate defaults and nondefaults\n",
    "nondefaults = X_y_train[X_y_train['loan_status'] == 0]\n",
    "defaults = X_y_train[X_y_train['loan_status'] == 1]\n",
    "\n",
    "# Undersample non-defaults \n",
    "nondefaults_under = nondefaults.sample(count_default, random_state = 42 )\n",
    "\n",
    "# Concat undersampled non-defaults with defaults\n",
    "X_y_train_under = pd.concat([nondefaults_under.reset_index(drop= True), defaults.reset_index(drop= True)], axis= 0)\n",
    "\n",
    "# Create separate X and y undersampled dataset\n",
    "y_train_under = X_y_train_under['loan_status']\n",
    "X_train_under = X_y_train_under.drop(columns=['loan_status'])"
   ]
  },
  {
   "cell_type": "markdown",
   "id": "ac0518a4-773a-4ba3-b460-83f54719505f",
   "metadata": {},
   "source": [
    " "
   ]
  },
  {
   "cell_type": "markdown",
   "id": "6ac031e4-04b4-4621-a76e-91a1eaf00d41",
   "metadata": {},
   "source": [
    "-------------"
   ]
  },
  {
   "cell_type": "markdown",
   "id": "00376766-3cb9-47a2-9d61-25d3bbeb0d7e",
   "metadata": {},
   "source": [
    "--------------------------"
   ]
  },
  {
   "cell_type": "markdown",
   "id": "8173f3f6-27b9-4efd-87a5-612f3cbd8414",
   "metadata": {},
   "source": [
    "## Scale the data"
   ]
  },
  {
   "cell_type": "code",
   "execution_count": 27,
   "id": "4c6109d6-b55a-402b-944f-c3b2e4a8a944",
   "metadata": {},
   "outputs": [],
   "source": [
    "numeric_names = X_train.select_dtypes(include='number').columns\n",
    "scaler = StandardScaler()\n",
    "\n",
    "X_train.loc[:, numeric_names] = scaler.fit_transform(X_train.loc[:, numeric_names])\n",
    "X_train_under.loc[:, numeric_names] = scaler.fit_transform(X_train_under.loc[:, numeric_names])\n",
    "X_test.loc[:, numeric_names] = scaler.transform(X_test.loc[:, numeric_names])\n",
    "model_monitoring_data.loc[:, numeric_names] = scaler.transform(model_monitoring_data.loc[:, numeric_names])"
   ]
  },
  {
   "cell_type": "markdown",
   "id": "1fd5dc09-f117-4091-b2c0-f9fc47177d93",
   "metadata": {},
   "source": [
    "--------"
   ]
  },
  {
   "cell_type": "markdown",
   "id": "83ee91ca-5115-43cf-ab9d-7d3d99422158",
   "metadata": {},
   "source": [
    " "
   ]
  },
  {
   "cell_type": "markdown",
   "id": "f3c45486-8ee7-4e36-8b0b-794724ef6692",
   "metadata": {},
   "source": [
    "## Logistic Regression"
   ]
  },
  {
   "cell_type": "markdown",
   "id": "b0b4e2eb-5304-4ecd-8e8c-5572f012a85d",
   "metadata": {
    "jp-MarkdownHeadingCollapsed": true
   },
   "source": [
    "### Logistic Regression Model"
   ]
  },
  {
   "cell_type": "code",
   "execution_count": null,
   "id": "ff762720-cc0d-4966-a5fb-a88f394c296c",
   "metadata": {},
   "outputs": [],
   "source": [
    "# Instantiate the logistic regression model\n",
    "log_reg = LogisticRegression(solver='lbfgs', max_iter= 100, class_weight='balanced')\n",
    "\n",
    "# Fit the model to the training data\n",
    "log_reg.fit(X_train, y_train)\n",
    "\n",
    "# Predict the outcomes for the testing data\n",
    "y_pred = log_reg.predict(X_test)\n",
    "y_pred_probs = log_reg.predict_proba(X_test)[:, 1]\n",
    "\n",
    "# Optional: To reassign loan_status based on threshold selection and tweak it \n",
    "y_preds_probs_df = pd.DataFrame(y_pred_probs, columns = ['prob_default'])\n",
    "y_preds_probs_df['loan_status'] = y_preds_probs_df['prob_default'].apply(lambda x: 1 if x > 0.45 else 0)\n"
   ]
  },
  {
   "cell_type": "code",
   "execution_count": null,
   "id": "d3c74e57-a31a-45b5-9ee6-9cd753ace11a",
   "metadata": {},
   "outputs": [],
   "source": [
    "# Evaluate the model's performance\n",
    "print(\"Intercept:\", log_reg.intercept_)\n",
    "\n",
    "accuracy = accuracy_score(y_test, y_preds_probs_df['loan_status'])\n",
    "print(\"Accuracy:\", accuracy)\n",
    "\n",
    "print('ROC_AUC Score: ',roc_auc_score(y_test, y_preds_probs_df['prob_default']))\n",
    "\n",
    "print(\"Confusion Matrix: \\n\" , confusion_matrix(y_test, y_preds_probs_df['loan_status']))\n",
    "print(\"Classification Report: \\n\", classification_report(y_test, y_preds_probs_df['loan_status']))\n",
    "\n",
    "fpr, tpr, thresholds = roc_curve(y_test, y_preds_probs_df['prob_default'])\n",
    "\n",
    "plt.plot([0, 1], [0, 1], 'k--')\n",
    "\n",
    "# Plot tpr against fpr\n",
    "plt.plot(fpr, tpr)\n",
    "plt.xlabel('False Positive Rate')\n",
    "plt.ylabel('True Positive Rate')\n",
    "plt.title('ROC Curve ')\n",
    "plt.show()"
   ]
  },
  {
   "cell_type": "code",
   "execution_count": null,
   "id": "562de747-0bd0-4280-8ff8-ca1252b05481",
   "metadata": {},
   "outputs": [],
   "source": [
    "coefficients = log_reg.coef_[0]\n",
    "\n",
    "feature_importance = pd.DataFrame({'Feature': X_train.columns, 'Importance': np.abs(coefficients)})\n",
    "feature_importance = feature_importance.sort_values('Importance', ascending=True)\n",
    "feature_importance.plot(x='Feature', y='Importance', kind='barh', figsize=(10, 6), title = \"Feature Importance\")"
   ]
  },
  {
   "cell_type": "code",
   "execution_count": null,
   "id": "5e71e28b-bd82-4e54-9451-dcfac876c34c",
   "metadata": {},
   "outputs": [],
   "source": [
    "# precision_recall_fscore_support(y_test, y_pred)"
   ]
  },
  {
   "cell_type": "code",
   "execution_count": null,
   "id": "2545165b-8cbc-4f88-ac2a-0f08af6f8f25",
   "metadata": {},
   "outputs": [],
   "source": [
    "# Calculate optimal threshold value\n",
    "precision, recall, thresholds = precision_recall_curve(y_test, y_preds_probs_df['prob_default']) \n",
    "plt.title(\"Precision-Recall vs. Threshold\")\n",
    "plt.plot(thresholds, precision[:-1],\"b--\",label='Precision')\n",
    "plt.plot(thresholds, recall[:-1],\"r--\",label=\"Recall\")\n",
    "plt.ylabel(\"Precision, Recall\")\n",
    "plt.xlabel(\"Threshold\")\n",
    "plt.legend(loc='lower left')\n",
    "plt.ylim([0,1])\n",
    "plt.xlim([0,.8])\n",
    "plt.show()\n"
   ]
  },
  {
   "cell_type": "markdown",
   "id": "eb889524-2596-4374-b708-17b82b02666a",
   "metadata": {},
   "source": [
    "------------------"
   ]
  },
  {
   "cell_type": "markdown",
   "id": "7da7ff18-ad58-4f95-8c8d-6b997828682f",
   "metadata": {},
   "source": [
    " "
   ]
  },
  {
   "cell_type": "markdown",
   "id": "60ea828d-db79-43e0-864d-d8ebf8c46428",
   "metadata": {},
   "source": [
    " "
   ]
  },
  {
   "cell_type": "markdown",
   "id": "71f539a8-5a82-46ff-b660-27a0638ba35f",
   "metadata": {},
   "source": [
    "### Logistic Regresssion Model: Cross-Validated and Hyperparameter tuned with Grid Search"
   ]
  },
  {
   "cell_type": "code",
   "execution_count": null,
   "id": "f80ca2c4-c2eb-4f17-ac12-0f9d960d5ad8",
   "metadata": {},
   "outputs": [],
   "source": [
    "param_grid = {\n",
    "    'C': [0.001, 0.01, 0.1, 1, 10, 100],\n",
    "    'penalty': ['l1', 'l2', 'elasticnet', 'none']\n",
    "}\n",
    "\n",
    "# Logistic Regression\n",
    "log_reg = LogisticRegression(solver='lbfgs',class_weight='balanced')\n",
    "# Grid Search\n",
    "grid_search = GridSearchCV(log_reg, param_grid, scoring='roc_auc', cv=5)\n",
    "grid_search.fit(X_train_under, y_train_under)\n",
    "\n",
    "best_params = grid_search.best_params_\n",
    "best_score = grid_search.best_score_\n",
    "print(\"Best hyperparameters:\", best_params)\n",
    "print(\"Train ROC AUC:\", best_score)\n",
    "\n",
    "# Grid Search Best Estimator with Tuned Hyperparameters \n",
    "best_log_reg = grid_search.best_estimator_\n",
    "y_pred = best_log_reg.predict(X_test)\n",
    "y_pred_proba = best_log_reg.predict_proba(X_test)\n",
    "roc_auc = roc_auc_score(y_test, y_pred)\n",
    "print(\"Test ROC AUC with best hyperparameters:\", roc_auc)\n",
    "\n",
    "\n",
    "# Predict outcomes for the testing data\n",
    "y_pred_grid = grid_search.predict(X_test)\n",
    "y_pred_probs_grid = grid_search.predict_proba(X_test)[:, 1]\n"
   ]
  },
  {
   "cell_type": "code",
   "execution_count": null,
   "id": "dd5f79a5-cebb-4f94-b214-4a1e588b3584",
   "metadata": {},
   "outputs": [],
   "source": [
    "# # Evaluate the model's performance\n",
    "# print(\"Intercept:\", log_reg.intercept_)\n",
    "\n",
    "accuracy = accuracy_score(y_test, y_pred_grid)\n",
    "print(\"Accuracy:\", accuracy)\n",
    "\n",
    "print('TEST ROC_AUC Score: ',roc_auc_score(y_test, y_pred_probs_grid))\n",
    "\n",
    "print(\"Confusion Matrix: \\n\" , confusion_matrix(y_test, y_pred_grid))\n",
    "print(\"Classification Report: \\n\", classification_report(y_test, y_pred_grid))\n",
    "\n",
    "fpr, tpr, thresholds = roc_curve(y_test, y_pred_probs_grid)\n",
    "\n",
    "plt.plot([0, 1], [0, 1], 'k--')\n",
    "\n",
    "# Plot tpr against fpr\n",
    "plt.plot(fpr, tpr)\n",
    "plt.xlabel('False Positive Rate')\n",
    "plt.ylabel('True Positive Rate')\n",
    "plt.title('ROC Curve ')\n",
    "plt.show()"
   ]
  },
  {
   "cell_type": "markdown",
   "id": "ac5286dc-5f73-4628-b612-1875c36bd720",
   "metadata": {},
   "source": [
    "---------------"
   ]
  },
  {
   "cell_type": "markdown",
   "id": "4f82b465-f21f-4ded-b19f-0b7764ac9f1a",
   "metadata": {},
   "source": [
    " "
   ]
  },
  {
   "cell_type": "markdown",
   "id": "9364d424-fcec-4078-9a57-17a4b4adbaef",
   "metadata": {},
   "source": [
    "## XGBoost"
   ]
  },
  {
   "cell_type": "markdown",
   "id": "a7fa21a6-4bcb-42e0-a00f-6cedc495f73f",
   "metadata": {
    "jp-MarkdownHeadingCollapsed": true
   },
   "source": [
    "### XGBoost Model: Under-sampled Data"
   ]
  },
  {
   "cell_type": "code",
   "execution_count": null,
   "id": "1499de55-6a4c-4cd1-b512-ab7ca28cdc59",
   "metadata": {},
   "outputs": [],
   "source": [
    "# Train a model\n",
    "clf_gbt = xgb.XGBClassifier(learning_rate = 0.2, max_depth = 7).fit(X_train_under, np.ravel(y_train_under))\n",
    "\n",
    "# Predict with a model\n",
    "gbt_pred= clf_gbt.predict(X_test)\n",
    "gbt_pred_probs= clf_gbt.predict_proba(X_test)[:,1]\n",
    "\n",
    "# Optional: To reassign loan_status based on threshold selection by tweaking \"prob_default\" \n",
    "gbt_preds_df = pd.DataFrame(gbt_pred_probs, columns = ['prob_default'])\n",
    "gbt_preds_df['loan_status'] = gbt_preds_df['prob_default'].apply(lambda x: 1 if x > 0.45 else 0)\n",
    "\n",
    "\n",
    "# Accuracy\n",
    "accuracy = accuracy_score(y_test, gbt_preds_df['loan_status'])\n",
    "print(\"Accuracy:\", accuracy)\n",
    "\n",
    "# ROC AUC\n",
    "print('Test ROC_AUC Score: ',roc_auc_score(y_test, gbt_pred_probs))\n",
    "\n",
    "# Confusion Matrix Classification Report\n",
    "print(\"Confusion Matrix: \\n\" , confusion_matrix(y_test, gbt_preds_df['loan_status']))\n",
    "print(\"Classification Report: \\n\", classification_report(y_test, gbt_preds_df['loan_status']))"
   ]
  },
  {
   "cell_type": "code",
   "execution_count": null,
   "id": "fd4ebbe6-7059-40b2-90a2-4e89a014f2b8",
   "metadata": {},
   "outputs": [],
   "source": [
    "fpr, tpr, thresholds = roc_curve(y_test, gbt_preds_df['prob_default'])\n",
    "\n",
    "plt.plot([0, 1], [0, 1], 'k--')\n",
    "\n",
    "# Plot tpr against fpr\n",
    "plt.plot(fpr, tpr)\n",
    "plt.xlabel('False Positive Rate')\n",
    "plt.ylabel('True Positive Rate')\n",
    "plt.title('ROC Curve ')\n",
    "plt.show()\n",
    "\n",
    "# Print the column importances from the model\n",
    "clf_gbt.get_booster().get_score(importance_type = 'weight')\n",
    "xgb.plot_importance(clf_gbt, importance_type= 'weight')"
   ]
  },
  {
   "cell_type": "markdown",
   "id": "60f223b8-716d-42af-a2cf-d4a9ba60d527",
   "metadata": {},
   "source": [
    "-----------------"
   ]
  },
  {
   "cell_type": "markdown",
   "id": "2af467cc-2ab7-410b-86cb-0179577f9834",
   "metadata": {
    "jp-MarkdownHeadingCollapsed": true
   },
   "source": [
    "### XGBoost: Cross Validated and Under-sampled Data"
   ]
  },
  {
   "cell_type": "code",
   "execution_count": null,
   "id": "df056c1d-cf34-4a6d-b860-20fba5539019",
   "metadata": {},
   "outputs": [],
   "source": [
    "# Set the number of folds\n",
    "n_folds = 10\n",
    "\n",
    "# Set early stopping. Number of iterations to allow before simulations stop\n",
    "# early_stop = 10\n",
    "\n",
    "# Set Parameters for CV\n",
    "params = {'objective': 'binary:logistic', 'seed' : 42, 'eval_metric': 'auc'}\n",
    "\n",
    "# Structure Train Data for CV XGBoost \n",
    "DTrain = xgb.DMatrix(X_train_under, label= y_train_under)\n",
    "\n",
    "# Perform Cross-Validation \n",
    "cv = xgb.cv(params, DTrain, num_boost_round= 100, nfold= n_folds, shuffle= True)\n",
    "\n"
   ]
  },
  {
   "cell_type": "code",
   "execution_count": null,
   "id": "d5fe5be9-66e6-4ccc-b4cb-0d64674e01a9",
   "metadata": {},
   "outputs": [],
   "source": [
    "# Plot the test AUC scores for each iteration\n",
    "plt.plot(cv['test-auc-mean'])\n",
    "plt.title('Cross-validated Test AUC Score Over 100 Iterations')\n",
    "plt.xlabel('Iteration Number')\n",
    "plt.ylabel('CV Test AUC Score')\n",
    "plt.show()"
   ]
  },
  {
   "cell_type": "code",
   "execution_count": null,
   "id": "ae1803a4-77a9-40c7-9f1a-9dd8282b3967",
   "metadata": {},
   "outputs": [],
   "source": []
  },
  {
   "cell_type": "markdown",
   "id": "d8118464-29fa-4992-a23b-e290ff00c54c",
   "metadata": {},
   "source": [
    "### XGBoost: GridSearchCV and Under-sampled Data"
   ]
  },
  {
   "cell_type": "code",
   "execution_count": null,
   "id": "acbd291d-17e3-4850-b5c1-c3f333a1cdde",
   "metadata": {},
   "outputs": [],
   "source": [
    "xgb_model = xgb.XGBClassifier(max_depth = 4)\n",
    "\n",
    "params = {\n",
    " 'max_depth':[4,8,12]\n",
    "}\n",
    "\n",
    "model = GridSearchCV(estimator = xgb_model, param_grid = params, cv=5)\n",
    "grid_search_gbt = model.fit(X_train_under, y_train_under)\n",
    "model.best_params_"
   ]
  },
  {
   "cell_type": "code",
   "execution_count": null,
   "id": "dd3d1b94-ca21-46a6-9a07-589c6c820293",
   "metadata": {},
   "outputs": [],
   "source": [
    "best_gbt_grid_search = grid_search_gbt.best_estimator_"
   ]
  },
  {
   "cell_type": "code",
   "execution_count": null,
   "id": "4e0a9b75-3011-44be-b3cd-7840e9e3dbb9",
   "metadata": {},
   "outputs": [],
   "source": [
    "y_pred_gbt_grid_best = best_gbt_grid_search.predict(X_test)\n",
    "y_pred_proba_gbt_grid_best = best_gbt_grid_search.predict_proba(X_test)\n",
    "roc_auc = roc_auc_score(y_test, y_pred_gbt_grid_best)"
   ]
  },
  {
   "cell_type": "code",
   "execution_count": null,
   "id": "b185e65d-588e-43e9-b654-11a39acaffc8",
   "metadata": {},
   "outputs": [],
   "source": [
    "print(\"Test ROC AUC with best hyperparameters:\", roc_auc)"
   ]
  },
  {
   "cell_type": "code",
   "execution_count": null,
   "id": "3fba114f-6d9e-4b98-b407-198bf2795436",
   "metadata": {},
   "outputs": [],
   "source": [
    "# Predict outcomes for the testing data\n",
    "y_pred_grid_gbt = best_gbt_grid_search.predict(X_test)\n",
    "y_pred_probs_grid_gbt = best_gbt_grid_search.predict_proba(X_test)[:, 1]"
   ]
  },
  {
   "cell_type": "code",
   "execution_count": null,
   "id": "ada619a7-367b-4e9e-b609-357e88194a73",
   "metadata": {},
   "outputs": [],
   "source": [
    "accuracy = accuracy_score(y_test, y_pred_grid_gbt)\n",
    "print(\"Accuracy:\", accuracy)\n",
    "\n",
    "print('TEST ROC_AUC Score: ',roc_auc_score(y_test, y_pred_probs_grid_gbt))\n",
    "\n",
    "print(\"Confusion Matrix: \\n\" , confusion_matrix(y_test, y_pred_grid_gbt))\n",
    "print(\"Classification Report: \\n\", classification_report(y_test, y_pred_grid_gbt))"
   ]
  },
  {
   "cell_type": "code",
   "execution_count": null,
   "id": "e7b070fb-7d23-4ec2-9c26-1658bedcb840",
   "metadata": {},
   "outputs": [],
   "source": []
  },
  {
   "cell_type": "code",
   "execution_count": null,
   "id": "e611e138-78dd-41ff-a763-323788ea67a9",
   "metadata": {},
   "outputs": [],
   "source": []
  },
  {
   "cell_type": "code",
   "execution_count": null,
   "id": "2f21c37b-0c35-4e80-be67-006c4fe480a2",
   "metadata": {},
   "outputs": [],
   "source": []
  },
  {
   "cell_type": "code",
   "execution_count": null,
   "id": "262ec3f4-200f-4998-9c4d-efef43344345",
   "metadata": {},
   "outputs": [],
   "source": []
  },
  {
   "cell_type": "code",
   "execution_count": null,
   "id": "8660cf3d-3790-4b30-9c05-67d9b40c909f",
   "metadata": {},
   "outputs": [],
   "source": []
  },
  {
   "cell_type": "code",
   "execution_count": null,
   "id": "d095dbb4-8da9-4b2d-9052-bc87a41fc053",
   "metadata": {},
   "outputs": [],
   "source": []
  },
  {
   "cell_type": "code",
   "execution_count": null,
   "id": "9cf8f648-358b-4676-bf78-4a795e89371b",
   "metadata": {},
   "outputs": [],
   "source": []
  },
  {
   "cell_type": "code",
   "execution_count": null,
   "id": "7d13bab3-ddb9-4b53-a68b-00bb479ab6cf",
   "metadata": {},
   "outputs": [],
   "source": []
  },
  {
   "cell_type": "code",
   "execution_count": null,
   "id": "e9b339b0-d84f-4844-a445-841b0a1899bc",
   "metadata": {},
   "outputs": [],
   "source": []
  },
  {
   "cell_type": "code",
   "execution_count": null,
   "id": "931c3d81-ef37-41b8-b9fc-fd242233178f",
   "metadata": {},
   "outputs": [],
   "source": []
  },
  {
   "cell_type": "code",
   "execution_count": null,
   "id": "a95a45ec-0ed4-436a-8d09-77f91f6b191e",
   "metadata": {},
   "outputs": [],
   "source": [
    "\n",
    "\n"
   ]
  },
  {
   "cell_type": "code",
   "execution_count": null,
   "id": "d23ae27c-3308-4fb2-a456-a078eda27703",
   "metadata": {},
   "outputs": [],
   "source": []
  }
 ],
 "metadata": {
  "kernelspec": {
   "display_name": "credit_risk",
   "language": "python",
   "name": "credit_risk"
  },
  "language_info": {
   "codemirror_mode": {
    "name": "ipython",
    "version": 3
   },
   "file_extension": ".py",
   "mimetype": "text/x-python",
   "name": "python",
   "nbconvert_exporter": "python",
   "pygments_lexer": "ipython3",
   "version": "3.12.3"
  },
  "panel-cell-order": [
   "facc6006-b892-490f-aaaf-7294b10991cd",
   "2e4e93ca-5879-4208-a865-2063020c931c"
  ]
 },
 "nbformat": 4,
 "nbformat_minor": 5
}
